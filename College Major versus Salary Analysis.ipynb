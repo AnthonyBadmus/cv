{
 "cells": [
  {
   "cell_type": "markdown",
   "id": "f9b5418d",
   "metadata": {},
   "source": [
    "\n",
    "\n",
    "## Research Questions:\n",
    "\n",
    "1. Which degrees have the highest starting salaries? \n",
    "\n",
    "\n",
    "2. Which majors have the lowest earnings after college?\n",
    "\n",
    "\n",
    "3. Which degrees have the highest earning potential?\n",
    "\n",
    "\n",
    "4. What are the lowest risk college majors from an earnings standpoint?\n",
    "\n",
    "\n",
    "5. Do business, STEM (Science, Technology, Engineering, Mathematics) or HASS (Humanities, Arts, Social Science) degrees earn more on average?\n"
   ]
  },
  {
   "cell_type": "code",
   "execution_count": 65,
   "id": "5603dd74",
   "metadata": {},
   "outputs": [],
   "source": [
    "import pandas as pd\n",
    "import snscrape.modules.twitter as sntwitter\n",
    "import numpy as np\n",
    "import matplotlib.pyplot as plt\n",
    "import seaborn as sns\n"
   ]
  },
  {
   "cell_type": "code",
   "execution_count": 334,
   "id": "fc750d3e",
   "metadata": {},
   "outputs": [],
   "source": [
    "df =  pd.read_csv('salaries-by-college-major.csv')"
   ]
  },
  {
   "cell_type": "code",
   "execution_count": 335,
   "id": "6a03bc15",
   "metadata": {
    "scrolled": false
   },
   "outputs": [
    {
     "data": {
      "text/html": [
       "<div>\n",
       "<style scoped>\n",
       "    .dataframe tbody tr th:only-of-type {\n",
       "        vertical-align: middle;\n",
       "    }\n",
       "\n",
       "    .dataframe tbody tr th {\n",
       "        vertical-align: top;\n",
       "    }\n",
       "\n",
       "    .dataframe thead th {\n",
       "        text-align: right;\n",
       "    }\n",
       "</style>\n",
       "<table border=\"1\" class=\"dataframe\">\n",
       "  <thead>\n",
       "    <tr style=\"text-align: right;\">\n",
       "      <th></th>\n",
       "      <th>Undergraduate Major</th>\n",
       "      <th>Starting Median Salary</th>\n",
       "      <th>Mid-Career Median Salary</th>\n",
       "      <th>Mid-Career 10th Percentile Salary</th>\n",
       "      <th>Mid-Career 90th Percentile Salary</th>\n",
       "      <th>Group</th>\n",
       "    </tr>\n",
       "  </thead>\n",
       "  <tbody>\n",
       "    <tr>\n",
       "      <th>46</th>\n",
       "      <td>Psychology</td>\n",
       "      <td>35900.0</td>\n",
       "      <td>60400.0</td>\n",
       "      <td>31600.0</td>\n",
       "      <td>127000.0</td>\n",
       "      <td>HASS</td>\n",
       "    </tr>\n",
       "    <tr>\n",
       "      <th>47</th>\n",
       "      <td>Religion</td>\n",
       "      <td>34100.0</td>\n",
       "      <td>52000.0</td>\n",
       "      <td>29700.0</td>\n",
       "      <td>96400.0</td>\n",
       "      <td>HASS</td>\n",
       "    </tr>\n",
       "    <tr>\n",
       "      <th>48</th>\n",
       "      <td>Sociology</td>\n",
       "      <td>36500.0</td>\n",
       "      <td>58200.0</td>\n",
       "      <td>30700.0</td>\n",
       "      <td>118000.0</td>\n",
       "      <td>HASS</td>\n",
       "    </tr>\n",
       "    <tr>\n",
       "      <th>49</th>\n",
       "      <td>Spanish</td>\n",
       "      <td>34000.0</td>\n",
       "      <td>53100.0</td>\n",
       "      <td>31000.0</td>\n",
       "      <td>96400.0</td>\n",
       "      <td>HASS</td>\n",
       "    </tr>\n",
       "    <tr>\n",
       "      <th>50</th>\n",
       "      <td>Source: PayScale Inc.</td>\n",
       "      <td>NaN</td>\n",
       "      <td>NaN</td>\n",
       "      <td>NaN</td>\n",
       "      <td>NaN</td>\n",
       "      <td>NaN</td>\n",
       "    </tr>\n",
       "  </tbody>\n",
       "</table>\n",
       "</div>"
      ],
      "text/plain": [
       "      Undergraduate Major  Starting Median Salary  Mid-Career Median Salary  \\\n",
       "46             Psychology                 35900.0                   60400.0   \n",
       "47               Religion                 34100.0                   52000.0   \n",
       "48              Sociology                 36500.0                   58200.0   \n",
       "49                Spanish                 34000.0                   53100.0   \n",
       "50  Source: PayScale Inc.                     NaN                       NaN   \n",
       "\n",
       "    Mid-Career 10th Percentile Salary  Mid-Career 90th Percentile Salary Group  \n",
       "46                            31600.0                           127000.0  HASS  \n",
       "47                            29700.0                            96400.0  HASS  \n",
       "48                            30700.0                           118000.0  HASS  \n",
       "49                            31000.0                            96400.0  HASS  \n",
       "50                                NaN                                NaN   NaN  "
      ]
     },
     "execution_count": 335,
     "metadata": {},
     "output_type": "execute_result"
    }
   ],
   "source": [
    "df.tail(5)"
   ]
  },
  {
   "cell_type": "markdown",
   "id": "d64a8252",
   "metadata": {},
   "source": [
    "## Exploratory Data Analysis"
   ]
  },
  {
   "cell_type": "code",
   "execution_count": 41,
   "id": "3537ddb7",
   "metadata": {
    "scrolled": true
   },
   "outputs": [
    {
     "name": "stdout",
     "output_type": "stream",
     "text": [
      "~~~~~~~~~~~~~~~~~~~~~~~~~~~~~~~~~~~~~~Shape~~~~~~~~~~~~~~~~~~~~~~~~~~~~~~~~~~~~~~~\n",
      "Rows:51\n",
      "Columns:6\n",
      "~~~~~~~~~~~~~~~~~~~~~~~~~~~~~~~~~~~~Data Type~~~~~~~~~~~~~~~~~~~~~~~~~~~~~~~~~~~~~\n",
      "Undergraduate Major                   object\n",
      "Starting Median Salary               float64\n",
      "Mid-Career Median Salary             float64\n",
      "Mid-Career 10th Percentile Salary    float64\n",
      "Mid-Career 90th Percentile Salary    float64\n",
      "Group                                 object\n",
      "dtype: object\n",
      "~~~~~~~~~~~~~~~~~~~~~~~~~~~~~~~~~~~Null Values~~~~~~~~~~~~~~~~~~~~~~~~~~~~~~~~~~~~\n",
      "Undergraduate Major                  0\n",
      "Starting Median Salary               1\n",
      "Mid-Career Median Salary             1\n",
      "Mid-Career 10th Percentile Salary    1\n",
      "Mid-Career 90th Percentile Salary    1\n",
      "Group                                1\n",
      "dtype: int64\n",
      "~~~~~~~~~~~~~~~~~~~~~~~~~~~~~~Percentage Null Values~~~~~~~~~~~~~~~~~~~~~~~~~~~~~~\n",
      "Undergraduate Major                  0.00\n",
      "Starting Median Salary               1.96\n",
      "Mid-Career Median Salary             1.96\n",
      "Mid-Career 10th Percentile Salary    1.96\n",
      "Mid-Career 90th Percentile Salary    1.96\n",
      "Group                                1.96\n",
      "dtype: float64\n",
      "~~~~~~~~~~~~~~~~~~~~~~~~~~~~~~~~~~~~Duplicates~~~~~~~~~~~~~~~~~~~~~~~~~~~~~~~~~~~~\n",
      "0\n"
     ]
    },
    {
     "data": {
      "text/html": [
       "<div>\n",
       "<style scoped>\n",
       "    .dataframe tbody tr th:only-of-type {\n",
       "        vertical-align: middle;\n",
       "    }\n",
       "\n",
       "    .dataframe tbody tr th {\n",
       "        vertical-align: top;\n",
       "    }\n",
       "\n",
       "    .dataframe thead th {\n",
       "        text-align: right;\n",
       "    }\n",
       "</style>\n",
       "<table border=\"1\" class=\"dataframe\">\n",
       "  <thead>\n",
       "    <tr style=\"text-align: right;\">\n",
       "      <th></th>\n",
       "      <th>Variable</th>\n",
       "      <th>Classes</th>\n",
       "    </tr>\n",
       "  </thead>\n",
       "  <tbody>\n",
       "    <tr>\n",
       "      <th>0</th>\n",
       "      <td>Undergraduate Major</td>\n",
       "      <td>51 labels</td>\n",
       "    </tr>\n",
       "    <tr>\n",
       "      <th>1</th>\n",
       "      <td>Mid-Career Median Salary</td>\n",
       "      <td>49 labels</td>\n",
       "    </tr>\n",
       "    <tr>\n",
       "      <th>2</th>\n",
       "      <td>Mid-Career 10th Percentile Salary</td>\n",
       "      <td>45 labels</td>\n",
       "    </tr>\n",
       "    <tr>\n",
       "      <th>3</th>\n",
       "      <td>Starting Median Salary</td>\n",
       "      <td>43 labels</td>\n",
       "    </tr>\n",
       "    <tr>\n",
       "      <th>4</th>\n",
       "      <td>Mid-Career 90th Percentile Salary</td>\n",
       "      <td>43 labels</td>\n",
       "    </tr>\n",
       "    <tr>\n",
       "      <th>5</th>\n",
       "      <td>Group</td>\n",
       "      <td>3 labels</td>\n",
       "    </tr>\n",
       "  </tbody>\n",
       "</table>\n",
       "</div>"
      ],
      "text/plain": [
       "                            Variable    Classes\n",
       "0                Undergraduate Major  51 labels\n",
       "1           Mid-Career Median Salary  49 labels\n",
       "2  Mid-Career 10th Percentile Salary  45 labels\n",
       "3             Starting Median Salary  43 labels\n",
       "4  Mid-Career 90th Percentile Salary  43 labels\n",
       "5                              Group   3 labels"
      ]
     },
     "execution_count": 41,
     "metadata": {},
     "output_type": "execute_result"
    }
   ],
   "source": [
    "def check(df):\n",
    "    print(\"Shape\". center(82,'~'))\n",
    "    print(\"Rows:{}\".format(df.shape[0]))\n",
    "    print(\"Columns:{}\".format(df.shape[1]))\n",
    "    print(\"Data Type\". center(82,'~'))\n",
    "    print(df.dtypes)\n",
    "    print(\"Null Values\". center(82,'~'))\n",
    "    print(df.isnull().sum())\n",
    "    print(\"Percentage Null Values\". center(82,'~'))\n",
    "    print((df.isnull().mean()*100).round(2))\n",
    "    print(\"Duplicates\". center(82,'~'))\n",
    "    print(df.duplicated().sum())\n",
    "\n",
    "check(df)\n",
    "\n",
    "\n",
    "\n",
    "def check_variable(df):\n",
    "    nunique_df = pd.DataFrame({'Variable':df.columns, 'Classes':[f'{df[i].nunique()} labels' for i in df.columns]})\n",
    "    nunique_df = nunique_df.sort_values('Classes', ascending = False)\n",
    "    nunique_df = nunique_df.reset_index(drop =True)\n",
    "    return nunique_df\n",
    "check_variable(df)"
   ]
  },
  {
   "cell_type": "markdown",
   "id": "13222b4e",
   "metadata": {},
   "source": [
    "Dealing With Missing Data\n",
    "There's missing data in 5 of the 6 columns, however because the missing data is less than 2% of the data points in each of the columns, we can drop the affected rows as it will not have any effect on the analysis."
   ]
  },
  {
   "cell_type": "code",
   "execution_count": 170,
   "id": "5c5b30db",
   "metadata": {
    "scrolled": true
   },
   "outputs": [
    {
     "data": {
      "text/plain": [
       "Undergraduate Major                  0\n",
       "Starting Median Salary               0\n",
       "Mid-Career Median Salary             0\n",
       "Mid-Career 10th Percentile Salary    0\n",
       "Mid-Career 90th Percentile Salary    0\n",
       "Group                                0\n",
       "dtype: int64"
      ]
     },
     "execution_count": 170,
     "metadata": {},
     "output_type": "execute_result"
    }
   ],
   "source": [
    "clean_df = df.dropna()\n",
    "clean_df.isnull().sum()"
   ]
  },
  {
   "cell_type": "code",
   "execution_count": 135,
   "id": "c98cb6e9",
   "metadata": {},
   "outputs": [
    {
     "data": {
      "text/plain": [
       "0    35900.0\n",
       "Name: Starting Median Salary, dtype: float64"
      ]
     },
     "execution_count": 135,
     "metadata": {},
     "output_type": "execute_result"
    }
   ],
   "source": [
    "clean_df['Starting Median Salary'].mode()\n",
    "# clean_df['Starting Median Salary'].value_counts().head(5)\n"
   ]
  },
  {
   "cell_type": "code",
   "execution_count": 91,
   "id": "d3daffd0",
   "metadata": {
    "scrolled": true
   },
   "outputs": [
    {
     "data": {
      "text/plain": [
       "<AxesSubplot: >"
      ]
     },
     "execution_count": 91,
     "metadata": {},
     "output_type": "execute_result"
    },
    {
     "data": {
      "image/png": "[encoded data removed]",
      "text/plain": [
       "<Figure size 640x480 with 1 Axes>"
      ]
     },
     "metadata": {},
     "output_type": "display_data"
    }
   ],
   "source": [
    "sms = clean_df['Starting Median Salary']\n",
    "sms.hist(bins=30, color='darkred', alpha=0.7)\n",
    "\n"
   ]
  },
  {
   "cell_type": "markdown",
   "id": "ceecbb4c",
   "metadata": {},
   "source": [
    "The starting median salaries are not normally distributed. The starting median salary of $35,900.00 occured the highest number of times. It is the same for Psychology Music and Drama."
   ]
  },
  {
   "cell_type": "markdown",
   "id": "73d568f9",
   "metadata": {},
   "source": [
    "#### Exploring The Career Group Types"
   ]
  },
  {
   "cell_type": "code",
   "execution_count": 60,
   "id": "4f58c366",
   "metadata": {},
   "outputs": [
    {
     "data": {
      "text/plain": [
       "HASS        22\n",
       "STEM        16\n",
       "Business    12\n",
       "Name: Group, dtype: int64"
      ]
     },
     "execution_count": 60,
     "metadata": {},
     "output_type": "execute_result"
    }
   ],
   "source": [
    "clean_df['Group'].value_counts()"
   ]
  },
  {
   "cell_type": "code",
   "execution_count": 70,
   "id": "7d1b8509",
   "metadata": {},
   "outputs": [
    {
     "data": {
      "image/png": "[encoded data removed]",
      "text/plain": [
       "<Figure size 600x600 with 1 Axes>"
      ]
     },
     "metadata": {},
     "output_type": "display_data"
    }
   ],
   "source": [
    "# labels = ['HASS','STEM','Business']\n",
    "# values = [22, 16, 12]\n",
    "\n",
    "sns.set_style('whitegrid')\n",
    "plt.figure(figsize=(6,6))\n",
    "plt.pie(clean_df['Group'].value_counts(), labels=labels, autopct='%1.1f%%', startangle=90)\n",
    "plt.title('Career Types')\n",
    "\n",
    "plt.show()"
   ]
  },
  {
   "cell_type": "markdown",
   "id": "08aa0f0d",
   "metadata": {},
   "source": [
    "## 1. Which degrees have the highest starting salaries?"
   ]
  },
  {
   "cell_type": "code",
   "execution_count": 47,
   "id": "d423e769",
   "metadata": {},
   "outputs": [
    {
     "data": {
      "text/html": [
       "<div>\n",
       "<style scoped>\n",
       "    .dataframe tbody tr th:only-of-type {\n",
       "        vertical-align: middle;\n",
       "    }\n",
       "\n",
       "    .dataframe tbody tr th {\n",
       "        vertical-align: top;\n",
       "    }\n",
       "\n",
       "    .dataframe thead th {\n",
       "        text-align: right;\n",
       "    }\n",
       "</style>\n",
       "<table border=\"1\" class=\"dataframe\">\n",
       "  <thead>\n",
       "    <tr style=\"text-align: right;\">\n",
       "      <th></th>\n",
       "      <th>Undergraduate Major</th>\n",
       "      <th>Starting Median Salary</th>\n",
       "      <th>Mid-Career Median Salary</th>\n",
       "      <th>Mid-Career 10th Percentile Salary</th>\n",
       "      <th>Mid-Career 90th Percentile Salary</th>\n",
       "      <th>Group</th>\n",
       "    </tr>\n",
       "  </thead>\n",
       "  <tbody>\n",
       "    <tr>\n",
       "      <th>0</th>\n",
       "      <td>Accounting</td>\n",
       "      <td>46000.0</td>\n",
       "      <td>77100.0</td>\n",
       "      <td>42200.0</td>\n",
       "      <td>152000.0</td>\n",
       "      <td>Business</td>\n",
       "    </tr>\n",
       "    <tr>\n",
       "      <th>1</th>\n",
       "      <td>Aerospace Engineering</td>\n",
       "      <td>57700.0</td>\n",
       "      <td>101000.0</td>\n",
       "      <td>64300.0</td>\n",
       "      <td>161000.0</td>\n",
       "      <td>STEM</td>\n",
       "    </tr>\n",
       "    <tr>\n",
       "      <th>2</th>\n",
       "      <td>Agriculture</td>\n",
       "      <td>42600.0</td>\n",
       "      <td>71900.0</td>\n",
       "      <td>36300.0</td>\n",
       "      <td>150000.0</td>\n",
       "      <td>Business</td>\n",
       "    </tr>\n",
       "    <tr>\n",
       "      <th>3</th>\n",
       "      <td>Anthropology</td>\n",
       "      <td>36800.0</td>\n",
       "      <td>61500.0</td>\n",
       "      <td>33800.0</td>\n",
       "      <td>138000.0</td>\n",
       "      <td>HASS</td>\n",
       "    </tr>\n",
       "  </tbody>\n",
       "</table>\n",
       "</div>"
      ],
      "text/plain": [
       "     Undergraduate Major  Starting Median Salary  Mid-Career Median Salary  \\\n",
       "0             Accounting                 46000.0                   77100.0   \n",
       "1  Aerospace Engineering                 57700.0                  101000.0   \n",
       "2            Agriculture                 42600.0                   71900.0   \n",
       "3           Anthropology                 36800.0                   61500.0   \n",
       "\n",
       "   Mid-Career 10th Percentile Salary  Mid-Career 90th Percentile Salary  \\\n",
       "0                            42200.0                           152000.0   \n",
       "1                            64300.0                           161000.0   \n",
       "2                            36300.0                           150000.0   \n",
       "3                            33800.0                           138000.0   \n",
       "\n",
       "      Group  \n",
       "0  Business  \n",
       "1      STEM  \n",
       "2  Business  \n",
       "3      HASS  "
      ]
     },
     "execution_count": 47,
     "metadata": {},
     "output_type": "execute_result"
    }
   ],
   "source": [
    "clean_df.head(4)"
   ]
  },
  {
   "cell_type": "code",
   "execution_count": 136,
   "id": "8b80f3ed",
   "metadata": {
    "scrolled": false
   },
   "outputs": [
    {
     "data": {
      "text/html": [
       "<div>\n",
       "<style scoped>\n",
       "    .dataframe tbody tr th:only-of-type {\n",
       "        vertical-align: middle;\n",
       "    }\n",
       "\n",
       "    .dataframe tbody tr th {\n",
       "        vertical-align: top;\n",
       "    }\n",
       "\n",
       "    .dataframe thead th {\n",
       "        text-align: right;\n",
       "    }\n",
       "</style>\n",
       "<table border=\"1\" class=\"dataframe\">\n",
       "  <thead>\n",
       "    <tr style=\"text-align: right;\">\n",
       "      <th></th>\n",
       "      <th>Undergraduate Major</th>\n",
       "      <th>Starting Median Salary</th>\n",
       "      <th>Mid-Career Median Salary</th>\n",
       "      <th>Mid-Career 10th Percentile Salary</th>\n",
       "      <th>Mid-Career 90th Percentile Salary</th>\n",
       "      <th>Group</th>\n",
       "    </tr>\n",
       "  </thead>\n",
       "  <tbody>\n",
       "    <tr>\n",
       "      <th>43</th>\n",
       "      <td>Physician Assistant</td>\n",
       "      <td>74300.0</td>\n",
       "      <td>91700.0</td>\n",
       "      <td>66400.0</td>\n",
       "      <td>124000.0</td>\n",
       "      <td>STEM</td>\n",
       "    </tr>\n",
       "    <tr>\n",
       "      <th>8</th>\n",
       "      <td>Chemical Engineering</td>\n",
       "      <td>63200.0</td>\n",
       "      <td>107000.0</td>\n",
       "      <td>71900.0</td>\n",
       "      <td>194000.0</td>\n",
       "      <td>STEM</td>\n",
       "    </tr>\n",
       "    <tr>\n",
       "      <th>12</th>\n",
       "      <td>Computer Engineering</td>\n",
       "      <td>61400.0</td>\n",
       "      <td>105000.0</td>\n",
       "      <td>66100.0</td>\n",
       "      <td>162000.0</td>\n",
       "      <td>STEM</td>\n",
       "    </tr>\n",
       "    <tr>\n",
       "      <th>19</th>\n",
       "      <td>Electrical Engineering</td>\n",
       "      <td>60900.0</td>\n",
       "      <td>103000.0</td>\n",
       "      <td>69300.0</td>\n",
       "      <td>168000.0</td>\n",
       "      <td>STEM</td>\n",
       "    </tr>\n",
       "    <tr>\n",
       "      <th>38</th>\n",
       "      <td>Mechanical Engineering</td>\n",
       "      <td>57900.0</td>\n",
       "      <td>93600.0</td>\n",
       "      <td>63700.0</td>\n",
       "      <td>163000.0</td>\n",
       "      <td>STEM</td>\n",
       "    </tr>\n",
       "  </tbody>\n",
       "</table>\n",
       "</div>"
      ],
      "text/plain": [
       "       Undergraduate Major  Starting Median Salary  Mid-Career Median Salary  \\\n",
       "43     Physician Assistant                 74300.0                   91700.0   \n",
       "8     Chemical Engineering                 63200.0                  107000.0   \n",
       "12    Computer Engineering                 61400.0                  105000.0   \n",
       "19  Electrical Engineering                 60900.0                  103000.0   \n",
       "38  Mechanical Engineering                 57900.0                   93600.0   \n",
       "\n",
       "    Mid-Career 10th Percentile Salary  Mid-Career 90th Percentile Salary Group  \n",
       "43                            66400.0                           124000.0  STEM  \n",
       "8                             71900.0                           194000.0  STEM  \n",
       "12                            66100.0                           162000.0  STEM  \n",
       "19                            69300.0                           168000.0  STEM  \n",
       "38                            63700.0                           163000.0  STEM  "
      ]
     },
     "execution_count": 136,
     "metadata": {},
     "output_type": "execute_result"
    }
   ],
   "source": [
    "clean_df.sort_values('Starting Median Salary', ascending=False).head(5)"
   ]
  },
  {
   "cell_type": "markdown",
   "id": "e7e3ff89",
   "metadata": {},
   "source": [
    "The degree with the highest starting salary of $74,300 is Physician Assistant."
   ]
  },
  {
   "cell_type": "markdown",
   "id": "605fbb55",
   "metadata": {},
   "source": [
    "#### *What college major has the highest mid-career salary? How much do graduates with this major earn? (Mid-career is defined as having 10+ years of experience)."
   ]
  },
  {
   "cell_type": "code",
   "execution_count": 137,
   "id": "06cbbb54",
   "metadata": {
    "scrolled": true
   },
   "outputs": [
    {
     "data": {
      "text/html": [
       "<div>\n",
       "<style scoped>\n",
       "    .dataframe tbody tr th:only-of-type {\n",
       "        vertical-align: middle;\n",
       "    }\n",
       "\n",
       "    .dataframe tbody tr th {\n",
       "        vertical-align: top;\n",
       "    }\n",
       "\n",
       "    .dataframe thead th {\n",
       "        text-align: right;\n",
       "    }\n",
       "</style>\n",
       "<table border=\"1\" class=\"dataframe\">\n",
       "  <thead>\n",
       "    <tr style=\"text-align: right;\">\n",
       "      <th></th>\n",
       "      <th>Undergraduate Major</th>\n",
       "      <th>Starting Median Salary</th>\n",
       "      <th>Mid-Career Median Salary</th>\n",
       "      <th>Mid-Career 10th Percentile Salary</th>\n",
       "      <th>Mid-Career 90th Percentile Salary</th>\n",
       "      <th>Group</th>\n",
       "    </tr>\n",
       "  </thead>\n",
       "  <tbody>\n",
       "    <tr>\n",
       "      <th>8</th>\n",
       "      <td>Chemical Engineering</td>\n",
       "      <td>63200.0</td>\n",
       "      <td>107000.0</td>\n",
       "      <td>71900.0</td>\n",
       "      <td>194000.0</td>\n",
       "      <td>STEM</td>\n",
       "    </tr>\n",
       "    <tr>\n",
       "      <th>12</th>\n",
       "      <td>Computer Engineering</td>\n",
       "      <td>61400.0</td>\n",
       "      <td>105000.0</td>\n",
       "      <td>66100.0</td>\n",
       "      <td>162000.0</td>\n",
       "      <td>STEM</td>\n",
       "    </tr>\n",
       "    <tr>\n",
       "      <th>19</th>\n",
       "      <td>Electrical Engineering</td>\n",
       "      <td>60900.0</td>\n",
       "      <td>103000.0</td>\n",
       "      <td>69300.0</td>\n",
       "      <td>168000.0</td>\n",
       "      <td>STEM</td>\n",
       "    </tr>\n",
       "    <tr>\n",
       "      <th>1</th>\n",
       "      <td>Aerospace Engineering</td>\n",
       "      <td>57700.0</td>\n",
       "      <td>101000.0</td>\n",
       "      <td>64300.0</td>\n",
       "      <td>161000.0</td>\n",
       "      <td>STEM</td>\n",
       "    </tr>\n",
       "    <tr>\n",
       "      <th>17</th>\n",
       "      <td>Economics</td>\n",
       "      <td>50100.0</td>\n",
       "      <td>98600.0</td>\n",
       "      <td>50600.0</td>\n",
       "      <td>210000.0</td>\n",
       "      <td>Business</td>\n",
       "    </tr>\n",
       "  </tbody>\n",
       "</table>\n",
       "</div>"
      ],
      "text/plain": [
       "       Undergraduate Major  Starting Median Salary  Mid-Career Median Salary  \\\n",
       "8     Chemical Engineering                 63200.0                  107000.0   \n",
       "12    Computer Engineering                 61400.0                  105000.0   \n",
       "19  Electrical Engineering                 60900.0                  103000.0   \n",
       "1    Aerospace Engineering                 57700.0                  101000.0   \n",
       "17               Economics                 50100.0                   98600.0   \n",
       "\n",
       "    Mid-Career 10th Percentile Salary  Mid-Career 90th Percentile Salary  \\\n",
       "8                             71900.0                           194000.0   \n",
       "12                            66100.0                           162000.0   \n",
       "19                            69300.0                           168000.0   \n",
       "1                             64300.0                           161000.0   \n",
       "17                            50600.0                           210000.0   \n",
       "\n",
       "       Group  \n",
       "8       STEM  \n",
       "12      STEM  \n",
       "19      STEM  \n",
       "1       STEM  \n",
       "17  Business  "
      ]
     },
     "execution_count": 137,
     "metadata": {},
     "output_type": "execute_result"
    }
   ],
   "source": [
    "clean_df.sort_values('Mid-Career Median Salary', ascending=False).head(5)"
   ]
  },
  {
   "cell_type": "code",
   "execution_count": 143,
   "id": "27532794",
   "metadata": {},
   "outputs": [
    {
     "data": {
      "text/plain": [
       "Undergraduate Major                  Chemical Engineering\n",
       "Starting Median Salary                            63200.0\n",
       "Mid-Career Median Salary                         107000.0\n",
       "Mid-Career 10th Percentile Salary                 71900.0\n",
       "Mid-Career 90th Percentile Salary                194000.0\n",
       "Group                                                STEM\n",
       "Name: 8, dtype: object"
      ]
     },
     "execution_count": 143,
     "metadata": {},
     "output_type": "execute_result"
    }
   ],
   "source": [
    "clean_df.loc[clean_df['Mid-Career Median Salary'].idxmax()]"
   ]
  },
  {
   "cell_type": "markdown",
   "id": "4b919e01",
   "metadata": {},
   "source": [
    "The college major with the highest mid-career salary is Chemical Engineering. Graduate with this major earn $107,000"
   ]
  },
  {
   "cell_type": "markdown",
   "id": "8b1cf51e",
   "metadata": {},
   "source": [
    "## 2. Which majors have the lowest earnings after college?"
   ]
  },
  {
   "cell_type": "markdown",
   "id": "ba113182",
   "metadata": {},
   "source": [
    "#### * Which college major has the lowest starting salary and how much do graduates earn after university?"
   ]
  },
  {
   "cell_type": "code",
   "execution_count": 139,
   "id": "b1ec12c9",
   "metadata": {
    "scrolled": false
   },
   "outputs": [
    {
     "data": {
      "text/html": [
       "<div>\n",
       "<style scoped>\n",
       "    .dataframe tbody tr th:only-of-type {\n",
       "        vertical-align: middle;\n",
       "    }\n",
       "\n",
       "    .dataframe tbody tr th {\n",
       "        vertical-align: top;\n",
       "    }\n",
       "\n",
       "    .dataframe thead th {\n",
       "        text-align: right;\n",
       "    }\n",
       "</style>\n",
       "<table border=\"1\" class=\"dataframe\">\n",
       "  <thead>\n",
       "    <tr style=\"text-align: right;\">\n",
       "      <th></th>\n",
       "      <th>Undergraduate Major</th>\n",
       "      <th>Starting Median Salary</th>\n",
       "      <th>Mid-Career Median Salary</th>\n",
       "      <th>Mid-Career 10th Percentile Salary</th>\n",
       "      <th>Mid-Career 90th Percentile Salary</th>\n",
       "      <th>Group</th>\n",
       "    </tr>\n",
       "  </thead>\n",
       "  <tbody>\n",
       "    <tr>\n",
       "      <th>34</th>\n",
       "      <td>Journalism</td>\n",
       "      <td>35600.0</td>\n",
       "      <td>66700.0</td>\n",
       "      <td>38400.0</td>\n",
       "      <td>145000.0</td>\n",
       "      <td>HASS</td>\n",
       "    </tr>\n",
       "    <tr>\n",
       "      <th>15</th>\n",
       "      <td>Criminal Justice</td>\n",
       "      <td>35000.0</td>\n",
       "      <td>56300.0</td>\n",
       "      <td>32200.0</td>\n",
       "      <td>107000.0</td>\n",
       "      <td>HASS</td>\n",
       "    </tr>\n",
       "    <tr>\n",
       "      <th>18</th>\n",
       "      <td>Education</td>\n",
       "      <td>34900.0</td>\n",
       "      <td>52000.0</td>\n",
       "      <td>29300.0</td>\n",
       "      <td>102000.0</td>\n",
       "      <td>HASS</td>\n",
       "    </tr>\n",
       "    <tr>\n",
       "      <th>47</th>\n",
       "      <td>Religion</td>\n",
       "      <td>34100.0</td>\n",
       "      <td>52000.0</td>\n",
       "      <td>29700.0</td>\n",
       "      <td>96400.0</td>\n",
       "      <td>HASS</td>\n",
       "    </tr>\n",
       "    <tr>\n",
       "      <th>49</th>\n",
       "      <td>Spanish</td>\n",
       "      <td>34000.0</td>\n",
       "      <td>53100.0</td>\n",
       "      <td>31000.0</td>\n",
       "      <td>96400.0</td>\n",
       "      <td>HASS</td>\n",
       "    </tr>\n",
       "  </tbody>\n",
       "</table>\n",
       "</div>"
      ],
      "text/plain": [
       "   Undergraduate Major  Starting Median Salary  Mid-Career Median Salary  \\\n",
       "34          Journalism                 35600.0                   66700.0   \n",
       "15    Criminal Justice                 35000.0                   56300.0   \n",
       "18           Education                 34900.0                   52000.0   \n",
       "47            Religion                 34100.0                   52000.0   \n",
       "49             Spanish                 34000.0                   53100.0   \n",
       "\n",
       "    Mid-Career 10th Percentile Salary  Mid-Career 90th Percentile Salary Group  \n",
       "34                            38400.0                           145000.0  HASS  \n",
       "15                            32200.0                           107000.0  HASS  \n",
       "18                            29300.0                           102000.0  HASS  \n",
       "47                            29700.0                            96400.0  HASS  \n",
       "49                            31000.0                            96400.0  HASS  "
      ]
     },
     "execution_count": 139,
     "metadata": {},
     "output_type": "execute_result"
    }
   ],
   "source": [
    "clean_df.sort_values('Starting Median Salary', ascending=False).tail(5)"
   ]
  },
  {
   "cell_type": "code",
   "execution_count": 145,
   "id": "a08610be",
   "metadata": {},
   "outputs": [
    {
     "data": {
      "text/plain": [
       "Undergraduate Major                  Spanish\n",
       "Starting Median Salary               34000.0\n",
       "Mid-Career Median Salary             53100.0\n",
       "Mid-Career 10th Percentile Salary    31000.0\n",
       "Mid-Career 90th Percentile Salary    96400.0\n",
       "Group                                   HASS\n",
       "Name: 49, dtype: object"
      ]
     },
     "execution_count": 145,
     "metadata": {},
     "output_type": "execute_result"
    }
   ],
   "source": [
    "clean_df.loc[clean_df['Starting Median Salary'].idxmin()]"
   ]
  },
  {
   "cell_type": "markdown",
   "id": "0ba70a27",
   "metadata": {},
   "source": [
    "The college major with the lowest starting salary is Spanish. Graduate with this major earn $34,000."
   ]
  },
  {
   "cell_type": "markdown",
   "id": "bb022689",
   "metadata": {},
   "source": [
    "#### * Which college major has the lowest mid-career salary and how much can people expect to earn with this degree? \n"
   ]
  },
  {
   "cell_type": "code",
   "execution_count": 153,
   "id": "a053d5d6",
   "metadata": {
    "scrolled": true
   },
   "outputs": [
    {
     "data": {
      "text/html": [
       "<div>\n",
       "<style scoped>\n",
       "    .dataframe tbody tr th:only-of-type {\n",
       "        vertical-align: middle;\n",
       "    }\n",
       "\n",
       "    .dataframe tbody tr th {\n",
       "        vertical-align: top;\n",
       "    }\n",
       "\n",
       "    .dataframe thead th {\n",
       "        text-align: right;\n",
       "    }\n",
       "</style>\n",
       "<table border=\"1\" class=\"dataframe\">\n",
       "  <thead>\n",
       "    <tr style=\"text-align: right;\">\n",
       "      <th></th>\n",
       "      <th>Undergraduate Major</th>\n",
       "      <th>Starting Median Salary</th>\n",
       "      <th>Mid-Career Median Salary</th>\n",
       "      <th>Mid-Career 10th Percentile Salary</th>\n",
       "      <th>Mid-Career 90th Percentile Salary</th>\n",
       "      <th>Group</th>\n",
       "    </tr>\n",
       "  </thead>\n",
       "  <tbody>\n",
       "    <tr>\n",
       "      <th>39</th>\n",
       "      <td>Music</td>\n",
       "      <td>35900.0</td>\n",
       "      <td>55000.0</td>\n",
       "      <td>26700.0</td>\n",
       "      <td>134000.0</td>\n",
       "      <td>HASS</td>\n",
       "    </tr>\n",
       "    <tr>\n",
       "      <th>32</th>\n",
       "      <td>Interior Design</td>\n",
       "      <td>36100.0</td>\n",
       "      <td>53200.0</td>\n",
       "      <td>35700.0</td>\n",
       "      <td>107000.0</td>\n",
       "      <td>HASS</td>\n",
       "    </tr>\n",
       "    <tr>\n",
       "      <th>49</th>\n",
       "      <td>Spanish</td>\n",
       "      <td>34000.0</td>\n",
       "      <td>53100.0</td>\n",
       "      <td>31000.0</td>\n",
       "      <td>96400.0</td>\n",
       "      <td>HASS</td>\n",
       "    </tr>\n",
       "    <tr>\n",
       "      <th>18</th>\n",
       "      <td>Education</td>\n",
       "      <td>34900.0</td>\n",
       "      <td>52000.0</td>\n",
       "      <td>29300.0</td>\n",
       "      <td>102000.0</td>\n",
       "      <td>HASS</td>\n",
       "    </tr>\n",
       "    <tr>\n",
       "      <th>47</th>\n",
       "      <td>Religion</td>\n",
       "      <td>34100.0</td>\n",
       "      <td>52000.0</td>\n",
       "      <td>29700.0</td>\n",
       "      <td>96400.0</td>\n",
       "      <td>HASS</td>\n",
       "    </tr>\n",
       "  </tbody>\n",
       "</table>\n",
       "</div>"
      ],
      "text/plain": [
       "   Undergraduate Major  Starting Median Salary  Mid-Career Median Salary  \\\n",
       "39               Music                 35900.0                   55000.0   \n",
       "32     Interior Design                 36100.0                   53200.0   \n",
       "49             Spanish                 34000.0                   53100.0   \n",
       "18           Education                 34900.0                   52000.0   \n",
       "47            Religion                 34100.0                   52000.0   \n",
       "\n",
       "    Mid-Career 10th Percentile Salary  Mid-Career 90th Percentile Salary Group  \n",
       "39                            26700.0                           134000.0  HASS  \n",
       "32                            35700.0                           107000.0  HASS  \n",
       "49                            31000.0                            96400.0  HASS  \n",
       "18                            29300.0                           102000.0  HASS  \n",
       "47                            29700.0                            96400.0  HASS  "
      ]
     },
     "execution_count": 153,
     "metadata": {},
     "output_type": "execute_result"
    }
   ],
   "source": [
    "clean_df.sort_values('Mid-Career Median Salary', ascending=False).tail(5)"
   ]
  },
  {
   "cell_type": "code",
   "execution_count": 144,
   "id": "7497b4da",
   "metadata": {
    "scrolled": false
   },
   "outputs": [
    {
     "data": {
      "text/plain": [
       "Undergraduate Major                  Education\n",
       "Starting Median Salary                 34900.0\n",
       "Mid-Career Median Salary               52000.0\n",
       "Mid-Career 10th Percentile Salary      29300.0\n",
       "Mid-Career 90th Percentile Salary     102000.0\n",
       "Group                                     HASS\n",
       "Name: 18, dtype: object"
      ]
     },
     "execution_count": 144,
     "metadata": {},
     "output_type": "execute_result"
    }
   ],
   "source": [
    "clean_df.loc[clean_df['Mid-Career Median Salary'].idxmin()]"
   ]
  },
  {
   "cell_type": "markdown",
   "id": "1a4d289a",
   "metadata": {},
   "source": [
    "The college major with the lowest mid-career salary are Education and Religion. Graduate with this majors earn $52,000"
   ]
  },
  {
   "cell_type": "markdown",
   "id": "ff98c5b4",
   "metadata": {},
   "source": [
    "## 3. Which degrees have the highest earning potential?\n",
    "Degrees with the highest earning potential are degrees with the highest Mid-Career 90th Percentile Salary.\n"
   ]
  },
  {
   "cell_type": "code",
   "execution_count": 374,
   "id": "23956152",
   "metadata": {
    "scrolled": false
   },
   "outputs": [
    {
     "data": {
      "image/png": "[encoded data removed]",
      "text/plain": [
       "<Figure size 640x480 with 1 Axes>"
      ]
     },
     "metadata": {},
     "output_type": "display_data"
    },
    {
     "data": {
      "text/html": [
       "<div>\n",
       "<style scoped>\n",
       "    .dataframe tbody tr th:only-of-type {\n",
       "        vertical-align: middle;\n",
       "    }\n",
       "\n",
       "    .dataframe tbody tr th {\n",
       "        vertical-align: top;\n",
       "    }\n",
       "\n",
       "    .dataframe thead th {\n",
       "        text-align: right;\n",
       "    }\n",
       "</style>\n",
       "<table border=\"1\" class=\"dataframe\">\n",
       "  <thead>\n",
       "    <tr style=\"text-align: right;\">\n",
       "      <th></th>\n",
       "      <th>Undergraduate Major</th>\n",
       "      <th>Mid-Career 90th Percentile Salary</th>\n",
       "    </tr>\n",
       "  </thead>\n",
       "  <tbody>\n",
       "    <tr>\n",
       "      <th>17</th>\n",
       "      <td>Economics</td>\n",
       "      <td>210000.0</td>\n",
       "    </tr>\n",
       "    <tr>\n",
       "      <th>22</th>\n",
       "      <td>Finance</td>\n",
       "      <td>195000.0</td>\n",
       "    </tr>\n",
       "    <tr>\n",
       "      <th>8</th>\n",
       "      <td>Chemical Engineering</td>\n",
       "      <td>194000.0</td>\n",
       "    </tr>\n",
       "    <tr>\n",
       "      <th>37</th>\n",
       "      <td>Math</td>\n",
       "      <td>183000.0</td>\n",
       "    </tr>\n",
       "    <tr>\n",
       "      <th>44</th>\n",
       "      <td>Physics</td>\n",
       "      <td>178000.0</td>\n",
       "    </tr>\n",
       "  </tbody>\n",
       "</table>\n",
       "</div>"
      ],
      "text/plain": [
       "     Undergraduate Major  Mid-Career 90th Percentile Salary\n",
       "17             Economics                           210000.0\n",
       "22               Finance                           195000.0\n",
       "8   Chemical Engineering                           194000.0\n",
       "37                  Math                           183000.0\n",
       "44               Physics                           178000.0"
      ]
     },
     "execution_count": 374,
     "metadata": {},
     "output_type": "execute_result"
    }
   ],
   "source": [
    "deg_highest_earning_pot = clean_df[['Undergraduate Major','Mid-Career 90th Percentile Salary']]\n",
    "deg_highest_earning_pot_sorted= deg_highest_earning_pot.sort_values('Mid-Career 90th Percentile Salary', ascending=False).head(5)\n",
    "\n",
    "x_values = deg_highest_earning_pot_sorted['Undergraduate Major']\n",
    "y_values = deg_highest_earning_pot_sorted['Mid-Career 90th Percentile Salary']\n",
    "\n",
    "\n",
    "plt.bar(x_values, y_values)\n",
    "\n",
    "plt.title(\"Degrees With Highest Earning Potential\")\n",
    "plt.ylabel(\"Mid-Career 90th Percentile Salary\")\n",
    "plt.xlabel(\"Undergraduate Major\")\n",
    "plt.show()\n",
    "\n",
    "deg_highest_earning_pot.sort_values('Mid-Career 90th Percentile Salary', ascending=False).head(5)"
   ]
  },
  {
   "cell_type": "markdown",
   "id": "f121f4bb",
   "metadata": {},
   "source": [
    "#### * Which degrees have the largest difference between high and low earners"
   ]
  },
  {
   "cell_type": "code",
   "execution_count": 377,
   "id": "6d64335b",
   "metadata": {},
   "outputs": [
    {
     "data": {
      "image/png": "[encoded data removed]",
      "text/plain": [
       "<Figure size 640x480 with 1 Axes>"
      ]
     },
     "metadata": {},
     "output_type": "display_data"
    },
    {
     "data": {
      "text/html": [
       "<div>\n",
       "<style scoped>\n",
       "    .dataframe tbody tr th:only-of-type {\n",
       "        vertical-align: middle;\n",
       "    }\n",
       "\n",
       "    .dataframe tbody tr th {\n",
       "        vertical-align: top;\n",
       "    }\n",
       "\n",
       "    .dataframe thead th {\n",
       "        text-align: right;\n",
       "    }\n",
       "</style>\n",
       "<table border=\"1\" class=\"dataframe\">\n",
       "  <thead>\n",
       "    <tr style=\"text-align: right;\">\n",
       "      <th></th>\n",
       "      <th>Undergraduate Major</th>\n",
       "      <th>diff</th>\n",
       "    </tr>\n",
       "  </thead>\n",
       "  <tbody>\n",
       "    <tr>\n",
       "      <th>17</th>\n",
       "      <td>Economics</td>\n",
       "      <td>159400.0</td>\n",
       "    </tr>\n",
       "    <tr>\n",
       "      <th>22</th>\n",
       "      <td>Finance</td>\n",
       "      <td>147800.0</td>\n",
       "    </tr>\n",
       "    <tr>\n",
       "      <th>37</th>\n",
       "      <td>Math</td>\n",
       "      <td>137800.0</td>\n",
       "    </tr>\n",
       "    <tr>\n",
       "      <th>36</th>\n",
       "      <td>Marketing</td>\n",
       "      <td>132900.0</td>\n",
       "    </tr>\n",
       "    <tr>\n",
       "      <th>42</th>\n",
       "      <td>Philosophy</td>\n",
       "      <td>132500.0</td>\n",
       "    </tr>\n",
       "  </tbody>\n",
       "</table>\n",
       "</div>"
      ],
      "text/plain": [
       "   Undergraduate Major      diff\n",
       "17           Economics  159400.0\n",
       "22             Finance  147800.0\n",
       "37                Math  137800.0\n",
       "36           Marketing  132900.0\n",
       "42          Philosophy  132500.0"
      ]
     },
     "execution_count": 377,
     "metadata": {},
     "output_type": "execute_result"
    }
   ],
   "source": [
    "deg_highest_diff = clean_df[['Undergraduate Major','diff']]\n",
    "deg_highest_diff_sorted = deg_highest_diff.sort_values('diff', ascending=False).head(5)\n",
    "\n",
    "\n",
    "x_values = deg_highest_diff_sorted ['Undergraduate Major']\n",
    "y_values = deg_highest_diff_sorted ['diff']\n",
    "\n",
    "\n",
    "plt.bar(x_values, y_values)\n",
    "\n",
    "plt.title(\"Degrees that have the largest difference between high and low earners\")\n",
    "plt.ylabel(\"Spread\")\n",
    "plt.xlabel(\"Undergraduate Major\")\n",
    "plt.show()\n",
    "\n",
    "deg_highest_diff_sorted"
   ]
  },
  {
   "cell_type": "markdown",
   "id": "27c1e52e",
   "metadata": {},
   "source": [
    "## 4. What are the lowest risk college majors from an earnings standpoint?\n",
    "A low-risk major is a degree where there is a small difference between the lowest and highest salaries. "
   ]
  },
  {
   "cell_type": "code",
   "execution_count": 171,
   "id": "a21b686a",
   "metadata": {},
   "outputs": [],
   "source": [
    "# clean_df['diff'] = clean_df['Mid-Career 90th Percentile Salary'] - clean_df['Mid-Career 10th Percentile Salary']\n",
    "diff_col = clean_df['Mid-Career 90th Percentile Salary'] - clean_df['Mid-Career 10th Percentile Salary']\n",
    "clean_df.insert(1, 'diff', diff_col)\n"
   ]
  },
  {
   "cell_type": "code",
   "execution_count": 177,
   "id": "d50782ed",
   "metadata": {},
   "outputs": [],
   "source": [
    "# clean_df.sort_values('diff', ascending=True).head(10)\n",
    "low_risk_majors =clean_df[['Undergraduate Major','diff']]"
   ]
  },
  {
   "cell_type": "code",
   "execution_count": 182,
   "id": "66cbed0c",
   "metadata": {
    "scrolled": true
   },
   "outputs": [
    {
     "data": {
      "text/html": [
       "<div>\n",
       "<style scoped>\n",
       "    .dataframe tbody tr th:only-of-type {\n",
       "        vertical-align: middle;\n",
       "    }\n",
       "\n",
       "    .dataframe tbody tr th {\n",
       "        vertical-align: top;\n",
       "    }\n",
       "\n",
       "    .dataframe thead th {\n",
       "        text-align: right;\n",
       "    }\n",
       "</style>\n",
       "<table border=\"1\" class=\"dataframe\">\n",
       "  <thead>\n",
       "    <tr style=\"text-align: right;\">\n",
       "      <th></th>\n",
       "      <th>Undergraduate Major</th>\n",
       "      <th>diff</th>\n",
       "    </tr>\n",
       "  </thead>\n",
       "  <tbody>\n",
       "    <tr>\n",
       "      <th>40</th>\n",
       "      <td>Nursing</td>\n",
       "      <td>50700.0</td>\n",
       "    </tr>\n",
       "    <tr>\n",
       "      <th>43</th>\n",
       "      <td>Physician Assistant</td>\n",
       "      <td>57600.0</td>\n",
       "    </tr>\n",
       "    <tr>\n",
       "      <th>41</th>\n",
       "      <td>Nutrition</td>\n",
       "      <td>65300.0</td>\n",
       "    </tr>\n",
       "    <tr>\n",
       "      <th>49</th>\n",
       "      <td>Spanish</td>\n",
       "      <td>65400.0</td>\n",
       "    </tr>\n",
       "    <tr>\n",
       "      <th>27</th>\n",
       "      <td>Health Care Administration</td>\n",
       "      <td>66400.0</td>\n",
       "    </tr>\n",
       "    <tr>\n",
       "      <th>47</th>\n",
       "      <td>Religion</td>\n",
       "      <td>66700.0</td>\n",
       "    </tr>\n",
       "    <tr>\n",
       "      <th>23</th>\n",
       "      <td>Forestry</td>\n",
       "      <td>70000.0</td>\n",
       "    </tr>\n",
       "    <tr>\n",
       "      <th>32</th>\n",
       "      <td>Interior Design</td>\n",
       "      <td>71300.0</td>\n",
       "    </tr>\n",
       "    <tr>\n",
       "      <th>18</th>\n",
       "      <td>Education</td>\n",
       "      <td>72700.0</td>\n",
       "    </tr>\n",
       "    <tr>\n",
       "      <th>15</th>\n",
       "      <td>Criminal Justice</td>\n",
       "      <td>74800.0</td>\n",
       "    </tr>\n",
       "  </tbody>\n",
       "</table>\n",
       "</div>"
      ],
      "text/plain": [
       "           Undergraduate Major     diff\n",
       "40                     Nursing  50700.0\n",
       "43         Physician Assistant  57600.0\n",
       "41                   Nutrition  65300.0\n",
       "49                     Spanish  65400.0\n",
       "27  Health Care Administration  66400.0\n",
       "47                    Religion  66700.0\n",
       "23                    Forestry  70000.0\n",
       "32             Interior Design  71300.0\n",
       "18                   Education  72700.0\n",
       "15            Criminal Justice  74800.0"
      ]
     },
     "execution_count": 182,
     "metadata": {},
     "output_type": "execute_result"
    }
   ],
   "source": [
    "low_risk_majors.sort_values('diff', ascending=True).head(10)"
   ]
  },
  {
   "cell_type": "markdown",
   "id": "b438e6e7",
   "metadata": {},
   "source": [
    "### 5. Do business, STEM (Science, Technology, Engineering, Mathematics) or HASS (Humanities, Arts, Social Science) degrees earn more on average?"
   ]
  },
  {
   "cell_type": "code",
   "execution_count": 224,
   "id": "a26f1db0",
   "metadata": {},
   "outputs": [
    {
     "name": "stderr",
     "output_type": "stream",
     "text": [
      "C:\\Users\\DELL\\AppData\\Local\\Temp\\ipykernel_29136\\54097759.py:1: FutureWarning: The default value of numeric_only in DataFrameGroupBy.mean is deprecated. In a future version, numeric_only will default to False. Either specify numeric_only or select only columns which should be valid for the function.\n",
      "  clean_df.groupby('Group').mean().round(2)\n"
     ]
    },
    {
     "data": {
      "text/html": [
       "<div>\n",
       "<style scoped>\n",
       "    .dataframe tbody tr th:only-of-type {\n",
       "        vertical-align: middle;\n",
       "    }\n",
       "\n",
       "    .dataframe tbody tr th {\n",
       "        vertical-align: top;\n",
       "    }\n",
       "\n",
       "    .dataframe thead th {\n",
       "        text-align: right;\n",
       "    }\n",
       "</style>\n",
       "<table border=\"1\" class=\"dataframe\">\n",
       "  <thead>\n",
       "    <tr style=\"text-align: right;\">\n",
       "      <th></th>\n",
       "      <th>diff</th>\n",
       "      <th>Starting Median Salary</th>\n",
       "      <th>Mid-Career Median Salary</th>\n",
       "      <th>Mid-Career 10th Percentile Salary</th>\n",
       "      <th>Mid-Career 90th Percentile Salary</th>\n",
       "    </tr>\n",
       "    <tr>\n",
       "      <th>Group</th>\n",
       "      <th></th>\n",
       "      <th></th>\n",
       "      <th></th>\n",
       "      <th></th>\n",
       "      <th></th>\n",
       "    </tr>\n",
       "  </thead>\n",
       "  <tbody>\n",
       "    <tr>\n",
       "      <th>Business</th>\n",
       "      <td>103958.33</td>\n",
       "      <td>44633.33</td>\n",
       "      <td>75083.33</td>\n",
       "      <td>43566.67</td>\n",
       "      <td>147525.00</td>\n",
       "    </tr>\n",
       "    <tr>\n",
       "      <th>HASS</th>\n",
       "      <td>95218.18</td>\n",
       "      <td>37186.36</td>\n",
       "      <td>62968.18</td>\n",
       "      <td>34145.45</td>\n",
       "      <td>129363.64</td>\n",
       "    </tr>\n",
       "    <tr>\n",
       "      <th>STEM</th>\n",
       "      <td>101600.00</td>\n",
       "      <td>53862.50</td>\n",
       "      <td>90812.50</td>\n",
       "      <td>56025.00</td>\n",
       "      <td>157625.00</td>\n",
       "    </tr>\n",
       "  </tbody>\n",
       "</table>\n",
       "</div>"
      ],
      "text/plain": [
       "               diff  Starting Median Salary  Mid-Career Median Salary  \\\n",
       "Group                                                                   \n",
       "Business  103958.33                44633.33                  75083.33   \n",
       "HASS       95218.18                37186.36                  62968.18   \n",
       "STEM      101600.00                53862.50                  90812.50   \n",
       "\n",
       "          Mid-Career 10th Percentile Salary  Mid-Career 90th Percentile Salary  \n",
       "Group                                                                           \n",
       "Business                           43566.67                          147525.00  \n",
       "HASS                               34145.45                          129363.64  \n",
       "STEM                               56025.00                          157625.00  "
      ]
     },
     "execution_count": 224,
     "metadata": {},
     "output_type": "execute_result"
    }
   ],
   "source": [
    "clean_df.groupby('Group').mean().round(2)"
   ]
  },
  {
   "cell_type": "code",
   "execution_count": 382,
   "id": "973fbd70",
   "metadata": {
    "scrolled": true
   },
   "outputs": [
    {
     "data": {
      "text/html": [
       "<div>\n",
       "<style scoped>\n",
       "    .dataframe tbody tr th:only-of-type {\n",
       "        vertical-align: middle;\n",
       "    }\n",
       "\n",
       "    .dataframe tbody tr th {\n",
       "        vertical-align: top;\n",
       "    }\n",
       "\n",
       "    .dataframe thead th {\n",
       "        text-align: right;\n",
       "    }\n",
       "</style>\n",
       "<table border=\"1\" class=\"dataframe\">\n",
       "  <thead>\n",
       "    <tr style=\"text-align: right;\">\n",
       "      <th></th>\n",
       "      <th>Mid-Career 90th Percentile Salary</th>\n",
       "    </tr>\n",
       "    <tr>\n",
       "      <th>Group</th>\n",
       "      <th></th>\n",
       "    </tr>\n",
       "  </thead>\n",
       "  <tbody>\n",
       "    <tr>\n",
       "      <th>STEM</th>\n",
       "      <td>157625.00</td>\n",
       "    </tr>\n",
       "    <tr>\n",
       "      <th>Business</th>\n",
       "      <td>147525.00</td>\n",
       "    </tr>\n",
       "    <tr>\n",
       "      <th>HASS</th>\n",
       "      <td>129363.64</td>\n",
       "    </tr>\n",
       "  </tbody>\n",
       "</table>\n",
       "</div>"
      ],
      "text/plain": [
       "          Mid-Career 90th Percentile Salary\n",
       "Group                                      \n",
       "STEM                              157625.00\n",
       "Business                          147525.00\n",
       "HASS                              129363.64"
      ]
     },
     "execution_count": 382,
     "metadata": {},
     "output_type": "execute_result"
    }
   ],
   "source": [
    "group = clean_df.groupby('Group')\n",
    "group['Mid-Career 90th Percentile Salary'].mean().sort_values(ascending=False).round(2).to_frame()\n",
    "\n"
   ]
  },
  {
   "cell_type": "markdown",
   "id": "a8c33e08",
   "metadata": {},
   "source": [
    "On the average STEM careers earn more."
   ]
  },
  {
   "cell_type": "markdown",
   "id": "aa06d6c9",
   "metadata": {},
   "source": [
    "## Using updated data from payscale.com "
   ]
  },
  {
   "cell_type": "code",
   "execution_count": 290,
   "id": "51ec4961",
   "metadata": {},
   "outputs": [],
   "source": [
    "from bs4 import BeautifulSoup\n",
    "import requests"
   ]
  },
  {
   "cell_type": "code",
   "execution_count": 320,
   "id": "1f3de8bb",
   "metadata": {},
   "outputs": [],
   "source": [
    "response = requests.get(\"https://www.payscale.com/college-salary-report/majors-that-pay-you-back/bachelors?orderBy=major&ascending=false\")\n",
    "payscale_url = response.text\n",
    "\n",
    "soup2 = BeautifulSoup(payscale_url, \"html.parser\")\n",
    "college_majors_sal = [tag.getText() for tag in soup2.find_all(name=\"span\", class_=\"data-table__value\")]\n"
   ]
  },
  {
   "cell_type": "code",
   "execution_count": 321,
   "id": "6d2f38b8",
   "metadata": {},
   "outputs": [
    {
     "data": {
      "text/plain": [
       "150"
      ]
     },
     "execution_count": 321,
     "metadata": {},
     "output_type": "execute_result"
    }
   ],
   "source": [
    "len(college_majors_sal)"
   ]
  },
  {
   "cell_type": "code",
   "execution_count": 322,
   "id": "ab48707c",
   "metadata": {},
   "outputs": [],
   "source": [
    "num_cols = 6\n",
    "data = [college_majors_sal[i:i+num_cols ] for i in range(0, len(college_majors_sal), num_cols )]\n",
    "\n",
    "columns = ['Rank','Major', 'Degree Type', 'Early Career Pay', 'Mid-Career Pay','% High Meaning']\n",
    "\n",
    "tdf = pd.DataFrame(data, columns=columns)\n",
    "tdf =tdf.copy()"
   ]
  },
  {
   "cell_type": "code",
   "execution_count": 323,
   "id": "4f124598",
   "metadata": {},
   "outputs": [
    {
     "data": {
      "text/html": [
       "<div>\n",
       "<style scoped>\n",
       "    .dataframe tbody tr th:only-of-type {\n",
       "        vertical-align: middle;\n",
       "    }\n",
       "\n",
       "    .dataframe tbody tr th {\n",
       "        vertical-align: top;\n",
       "    }\n",
       "\n",
       "    .dataframe thead th {\n",
       "        text-align: right;\n",
       "    }\n",
       "</style>\n",
       "<table border=\"1\" class=\"dataframe\">\n",
       "  <thead>\n",
       "    <tr style=\"text-align: right;\">\n",
       "      <th></th>\n",
       "      <th>Rank</th>\n",
       "      <th>Major</th>\n",
       "      <th>Early Career Pay</th>\n",
       "      <th>Mid-Career Pay</th>\n",
       "    </tr>\n",
       "  </thead>\n",
       "  <tbody>\n",
       "    <tr>\n",
       "      <th>9</th>\n",
       "      <td>37</td>\n",
       "      <td>Welding Engineering</td>\n",
       "      <td>$81,000</td>\n",
       "      <td>$126,600</td>\n",
       "    </tr>\n",
       "    <tr>\n",
       "      <th>8</th>\n",
       "      <td>277</td>\n",
       "      <td>Welding Engineering Technology</td>\n",
       "      <td>$74,700</td>\n",
       "      <td>$95,000</td>\n",
       "    </tr>\n",
       "    <tr>\n",
       "      <th>3</th>\n",
       "      <td>472</td>\n",
       "      <td>Workforce Education &amp; Development</td>\n",
       "      <td>$59,900</td>\n",
       "      <td>$81,400</td>\n",
       "    </tr>\n",
       "    <tr>\n",
       "      <th>10</th>\n",
       "      <td>203</td>\n",
       "      <td>Web Development</td>\n",
       "      <td>$56,400</td>\n",
       "      <td>$101,300</td>\n",
       "    </tr>\n",
       "    <tr>\n",
       "      <th>11</th>\n",
       "      <td>263</td>\n",
       "      <td>Web Design &amp; Development</td>\n",
       "      <td>$53,100</td>\n",
       "      <td>$95,900</td>\n",
       "    </tr>\n",
       "    <tr>\n",
       "      <th>23</th>\n",
       "      <td>622</td>\n",
       "      <td>Turfgrass Management</td>\n",
       "      <td>$53,100</td>\n",
       "      <td>$71,900</td>\n",
       "    </tr>\n",
       "    <tr>\n",
       "      <th>24</th>\n",
       "      <td>447</td>\n",
       "      <td>Travel Industry Management</td>\n",
       "      <td>$52,600</td>\n",
       "      <td>$82,900</td>\n",
       "    </tr>\n",
       "    <tr>\n",
       "      <th>13</th>\n",
       "      <td>367</td>\n",
       "      <td>Web &amp; Digital Media Development</td>\n",
       "      <td>$52,300</td>\n",
       "      <td>$88,000</td>\n",
       "    </tr>\n",
       "    <tr>\n",
       "      <th>21</th>\n",
       "      <td>319</td>\n",
       "      <td>Urban &amp; Regional Planning</td>\n",
       "      <td>$51,800</td>\n",
       "      <td>$92,100</td>\n",
       "    </tr>\n",
       "    <tr>\n",
       "      <th>19</th>\n",
       "      <td>509</td>\n",
       "      <td>Urban Studies</td>\n",
       "      <td>$51,500</td>\n",
       "      <td>$78,900</td>\n",
       "    </tr>\n",
       "    <tr>\n",
       "      <th>20</th>\n",
       "      <td>350</td>\n",
       "      <td>Urban Planning</td>\n",
       "      <td>$50,500</td>\n",
       "      <td>$89,200</td>\n",
       "    </tr>\n",
       "    <tr>\n",
       "      <th>12</th>\n",
       "      <td>653</td>\n",
       "      <td>Web Design</td>\n",
       "      <td>$49,900</td>\n",
       "      <td>$69,800</td>\n",
       "    </tr>\n",
       "    <tr>\n",
       "      <th>7</th>\n",
       "      <td>383</td>\n",
       "      <td>Welding Technology</td>\n",
       "      <td>$48,400</td>\n",
       "      <td>$86,700</td>\n",
       "    </tr>\n",
       "    <tr>\n",
       "      <th>16</th>\n",
       "      <td>439</td>\n",
       "      <td>Visual Effects &amp; Motion Graphics</td>\n",
       "      <td>$48,100</td>\n",
       "      <td>$83,400</td>\n",
       "    </tr>\n",
       "    <tr>\n",
       "      <th>17</th>\n",
       "      <td>577</td>\n",
       "      <td>Visual Communications</td>\n",
       "      <td>$45,400</td>\n",
       "      <td>$74,300</td>\n",
       "    </tr>\n",
       "    <tr>\n",
       "      <th>4</th>\n",
       "      <td>670</td>\n",
       "      <td>Women's Studies</td>\n",
       "      <td>$45,200</td>\n",
       "      <td>$68,500</td>\n",
       "    </tr>\n",
       "    <tr>\n",
       "      <th>2</th>\n",
       "      <td>425</td>\n",
       "      <td>Writing</td>\n",
       "      <td>$44,200</td>\n",
       "      <td>$84,200</td>\n",
       "    </tr>\n",
       "    <tr>\n",
       "      <th>6</th>\n",
       "      <td>761</td>\n",
       "      <td>Wildlife Biology</td>\n",
       "      <td>$42,900</td>\n",
       "      <td>$59,800</td>\n",
       "    </tr>\n",
       "    <tr>\n",
       "      <th>18</th>\n",
       "      <td>705</td>\n",
       "      <td>Video Production</td>\n",
       "      <td>$42,800</td>\n",
       "      <td>$65,100</td>\n",
       "    </tr>\n",
       "    <tr>\n",
       "      <th>15</th>\n",
       "      <td>780</td>\n",
       "      <td>Vocal Performance</td>\n",
       "      <td>$42,600</td>\n",
       "      <td>$58,000</td>\n",
       "    </tr>\n",
       "    <tr>\n",
       "      <th>22</th>\n",
       "      <td>759</td>\n",
       "      <td>University Studies</td>\n",
       "      <td>$42,400</td>\n",
       "      <td>$60,000</td>\n",
       "    </tr>\n",
       "    <tr>\n",
       "      <th>0</th>\n",
       "      <td>526</td>\n",
       "      <td>Zoology</td>\n",
       "      <td>$42,100</td>\n",
       "      <td>$77,900</td>\n",
       "    </tr>\n",
       "    <tr>\n",
       "      <th>5</th>\n",
       "      <td>721</td>\n",
       "      <td>Wildlife Management</td>\n",
       "      <td>$39,700</td>\n",
       "      <td>$64,100</td>\n",
       "    </tr>\n",
       "    <tr>\n",
       "      <th>1</th>\n",
       "      <td>803</td>\n",
       "      <td>Youth Ministry</td>\n",
       "      <td>$37,400</td>\n",
       "      <td>$54,200</td>\n",
       "    </tr>\n",
       "    <tr>\n",
       "      <th>14</th>\n",
       "      <td>805</td>\n",
       "      <td>Voice &amp; Opera</td>\n",
       "      <td>$34,500</td>\n",
       "      <td>$53,300</td>\n",
       "    </tr>\n",
       "  </tbody>\n",
       "</table>\n",
       "</div>"
      ],
      "text/plain": [
       "   Rank                              Major Early Career Pay Mid-Career Pay\n",
       "9    37                Welding Engineering          $81,000       $126,600\n",
       "8   277     Welding Engineering Technology          $74,700        $95,000\n",
       "3   472  Workforce Education & Development          $59,900        $81,400\n",
       "10  203                    Web Development          $56,400       $101,300\n",
       "11  263           Web Design & Development          $53,100        $95,900\n",
       "23  622               Turfgrass Management          $53,100        $71,900\n",
       "24  447         Travel Industry Management          $52,600        $82,900\n",
       "13  367    Web & Digital Media Development          $52,300        $88,000\n",
       "21  319          Urban & Regional Planning          $51,800        $92,100\n",
       "19  509                      Urban Studies          $51,500        $78,900\n",
       "20  350                     Urban Planning          $50,500        $89,200\n",
       "12  653                         Web Design          $49,900        $69,800\n",
       "7   383                 Welding Technology          $48,400        $86,700\n",
       "16  439   Visual Effects & Motion Graphics          $48,100        $83,400\n",
       "17  577              Visual Communications          $45,400        $74,300\n",
       "4   670                    Women's Studies          $45,200        $68,500\n",
       "2   425                            Writing          $44,200        $84,200\n",
       "6   761                   Wildlife Biology          $42,900        $59,800\n",
       "18  705                   Video Production          $42,800        $65,100\n",
       "15  780                  Vocal Performance          $42,600        $58,000\n",
       "22  759                 University Studies          $42,400        $60,000\n",
       "0   526                            Zoology          $42,100        $77,900\n",
       "5   721                Wildlife Management          $39,700        $64,100\n",
       "1   803                     Youth Ministry          $37,400        $54,200\n",
       "14  805                      Voice & Opera          $34,500        $53,300"
      ]
     },
     "execution_count": 323,
     "metadata": {},
     "output_type": "execute_result"
    }
   ],
   "source": [
    "tdf.drop(columns=['Degree Type','% High Meaning']).sort_values('Early Career Pay', ascending=False)\n",
    "# tdf.sort_values('Rank', ascending=True)"
   ]
  },
  {
   "cell_type": "code",
   "execution_count": null,
   "id": "89e8ee96",
   "metadata": {},
   "outputs": [],
   "source": []
  }
 ],
 "metadata": {
  "kernelspec": {
   "display_name": "Python 3 (ipykernel)",
   "language": "python",
   "name": "python3"
  },
  "language_info": {
   "codemirror_mode": {
    "name": "ipython",
    "version": 3
   },
   "file_extension": ".py",
   "mimetype": "text/x-python",
   "name": "python",
   "nbconvert_exporter": "python",
   "pygments_lexer": "ipython3",
   "version": "3.10.7"
  }
 },
 "nbformat": 4,
 "nbformat_minor": 5
}
